{
  "nbformat": 4,
  "nbformat_minor": 0,
  "metadata": {
    "colab": {
      "provenance": []
    },
    "kernelspec": {
      "name": "python3",
      "display_name": "Python 3"
    },
    "language_info": {
      "name": "python"
    }
  },
  "cells": [
    {
      "cell_type": "markdown",
      "source": [],
      "metadata": {
        "id": "lFSqmQIJcEZi"
      }
    },
    {
      "cell_type": "code",
      "execution_count": 8,
      "metadata": {
        "colab": {
          "base_uri": "https://localhost:8080/"
        },
        "id": "pqtRjQNpbw-E",
        "outputId": "09fb7d77-b0ff-4a91-d5c3-8a94ff720840"
      },
      "outputs": [
        {
          "name": "stdout",
          "output_type": "stream",
          "text": [
            "Enter first number 10\n"
          ]
        }
      ],
      "source": [
        "no1 = int(input(\"Enter first number \"))"
      ]
    },
    {
      "cell_type": "code",
      "source": [
        "no2 = int(input(\"Enter second number \"))"
      ],
      "metadata": {
        "colab": {
          "base_uri": "https://localhost:8080/"
        },
        "id": "mZaczf7Yc_TB",
        "outputId": "a1bc32f1-9047-48d4-e66c-7e017018d610"
      },
      "execution_count": 2,
      "outputs": [
        {
          "name": "stdout",
          "output_type": "stream",
          "text": [
            "Enter second number 2\n"
          ]
        }
      ]
    },
    {
      "cell_type": "code",
      "source": [
        "# Commment so 78 is an integer\n",
        "sum = no1 + no2\n",
        "print(\"Sum is \", sum)"
      ],
      "metadata": {
        "colab": {
          "base_uri": "https://localhost:8080/"
        },
        "id": "eGl2gn8QfeNK",
        "outputId": "3bd29ba8-39b7-4762-8a40-af767757926e"
      },
      "execution_count": 3,
      "outputs": [
        {
          "output_type": "stream",
          "name": "stdout",
          "text": [
            "Sum is  12\n"
          ]
        }
      ]
    },
    {
      "cell_type": "code",
      "source": [
        "diff = no1 - no2\n",
        "print(\"Difference is \", diff)"
      ],
      "metadata": {
        "colab": {
          "base_uri": "https://localhost:8080/"
        },
        "id": "e80mLkiLfmZI",
        "outputId": "dc1b72f1-8c02-43e9-95a0-2ea5425d3bf0"
      },
      "execution_count": 4,
      "outputs": [
        {
          "output_type": "stream",
          "name": "stdout",
          "text": [
            "Difference is  8\n"
          ]
        }
      ]
    },
    {
      "cell_type": "code",
      "source": [
        "divide = no1 / no2\n",
        "print(\"Division is \", divide)"
      ],
      "metadata": {
        "colab": {
          "base_uri": "https://localhost:8080/"
        },
        "id": "0MMZLszafqG0",
        "outputId": "56c88019-e551-49bb-d512-fd459f97146a"
      },
      "execution_count": 5,
      "outputs": [
        {
          "output_type": "stream",
          "name": "stdout",
          "text": [
            "Division is  5.0\n"
          ]
        }
      ]
    },
    {
      "cell_type": "code",
      "source": [
        "multiply = no1 * no2\n",
        "print(\"Multiplication is \", multiply)"
      ],
      "metadata": {
        "colab": {
          "base_uri": "https://localhost:8080/"
        },
        "id": "4cmz-WJZftmH",
        "outputId": "4d9bc386-f765-4cac-c54a-d8c62bf116a8"
      },
      "execution_count": 6,
      "outputs": [
        {
          "output_type": "stream",
          "name": "stdout",
          "text": [
            "Multiplication is  20\n"
          ]
        }
      ]
    },
    {
      "cell_type": "code",
      "source": [
        "miles = int(input(\"Enter miles \"))\n",
        "km = miles * 1.60934\n",
        "print(\"Kilometers is \", km)"
      ],
      "metadata": {
        "colab": {
          "base_uri": "https://localhost:8080/"
        },
        "id": "_oMZsDA1fvzT",
        "outputId": "56d5e2f5-b566-46e7-f27b-1af626ff553e"
      },
      "execution_count": 7,
      "outputs": [
        {
          "output_type": "stream",
          "name": "stdout",
          "text": [
            "Enter miles 10\n",
            "Kilometers is  16.0934\n"
          ]
        }
      ]
    },
    {
      "cell_type": "code",
      "source": [],
      "metadata": {
        "id": "5C8nnNfWfyOt"
      },
      "execution_count": null,
      "outputs": []
    }
  ]
}