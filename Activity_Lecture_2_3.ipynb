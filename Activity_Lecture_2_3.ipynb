{
  "nbformat": 4,
  "nbformat_minor": 0,
  "metadata": {
    "colab": {
      "provenance": []
    },
    "kernelspec": {
      "name": "python3",
      "display_name": "Python 3"
    },
    "language_info": {
      "name": "python"
    }
  },
  "cells": [
    {
      "cell_type": "markdown",
      "source": [
        "**List**"
      ],
      "metadata": {
        "id": "T0D2b0OZfYFf"
      }
    },
    {
      "cell_type": "code",
      "execution_count": 1,
      "metadata": {
        "colab": {
          "base_uri": "https://localhost:8080/"
        },
        "id": "jWUdzh1bfNzp",
        "outputId": "bf93fbc4-1dae-4640-fd50-e4d0d45fb185"
      },
      "outputs": [
        {
          "output_type": "stream",
          "name": "stdout",
          "text": [
            "['apple', 'banana', 'berry', 45, 56.7, True]\n",
            "<class 'list'>\n",
            "apple\n",
            "56.7\n",
            "['Mango', 'banana', 'berry', 45, 56.7, True]\n"
          ]
        }
      ],
      "source": [
        "#list type\n",
        "x = [\"apple\", \"banana\", \"berry\", 45, 56.7, True]\n",
        "print(x)\n",
        "print(type(x))\n",
        "\n",
        "# accessing elements\n",
        "print(x[0])\n",
        "print(x[4])\n",
        "\n",
        "# modifying elements\n",
        "x[0] = \"Mango\"\n",
        "print(x)"
      ]
    },
    {
      "cell_type": "markdown",
      "source": [
        "**Tuple**"
      ],
      "metadata": {
        "id": "BKRjbIeyforf"
      }
    },
    {
      "cell_type": "code",
      "source": [
        "#tuple type\n",
        "x = (\"apple\", \"banana\", \"berry\", 45, 56.7, True)\n",
        "print(x)\n",
        "print(type(x))\n",
        "\n",
        "# accessing elements\n",
        "print(x[0])\n",
        "print(x[4])\n",
        "\n",
        "# modifying elements/not possible imutable\n",
        "x[0] = \"Mango\"\n",
        "print(x)"
      ],
      "metadata": {
        "colab": {
          "base_uri": "https://localhost:8080/",
          "height": 273
        },
        "id": "MMxiE3yTfeSK",
        "outputId": "2a69bc49-90bd-45f7-b93b-37df0550d40f"
      },
      "execution_count": 2,
      "outputs": [
        {
          "output_type": "stream",
          "name": "stdout",
          "text": [
            "('apple', 'banana', 'berry', 45, 56.7, True)\n",
            "<class 'tuple'>\n",
            "apple\n",
            "56.7\n"
          ]
        },
        {
          "output_type": "error",
          "ename": "TypeError",
          "evalue": "'tuple' object does not support item assignment",
          "traceback": [
            "\u001b[0;31m---------------------------------------------------------------------------\u001b[0m",
            "\u001b[0;31mTypeError\u001b[0m                                 Traceback (most recent call last)",
            "\u001b[0;32m/tmp/ipython-input-415695928.py\u001b[0m in \u001b[0;36m<cell line: 0>\u001b[0;34m()\u001b[0m\n\u001b[1;32m      9\u001b[0m \u001b[0;34m\u001b[0m\u001b[0m\n\u001b[1;32m     10\u001b[0m \u001b[0;31m# modifying elements/not possible imutable\u001b[0m\u001b[0;34m\u001b[0m\u001b[0;34m\u001b[0m\u001b[0m\n\u001b[0;32m---> 11\u001b[0;31m \u001b[0mx\u001b[0m\u001b[0;34m[\u001b[0m\u001b[0;36m0\u001b[0m\u001b[0;34m]\u001b[0m \u001b[0;34m=\u001b[0m \u001b[0;34m\"Mango\"\u001b[0m\u001b[0;34m\u001b[0m\u001b[0;34m\u001b[0m\u001b[0m\n\u001b[0m\u001b[1;32m     12\u001b[0m \u001b[0mprint\u001b[0m\u001b[0;34m(\u001b[0m\u001b[0mx\u001b[0m\u001b[0;34m)\u001b[0m\u001b[0;34m\u001b[0m\u001b[0;34m\u001b[0m\u001b[0m\n",
            "\u001b[0;31mTypeError\u001b[0m: 'tuple' object does not support item assignment"
          ]
        }
      ]
    },
    {
      "cell_type": "markdown",
      "source": [
        "**Iterating**"
      ],
      "metadata": {
        "id": "g9IPu_Ehf-hw"
      }
    },
    {
      "cell_type": "code",
      "source": [
        "#list type\n",
        "x = [\"apple\", \"banana\", \"berry\", 45, 56.7, True]\n",
        "\n",
        "i = 0\n",
        "while i < len(x):\n",
        "  print(x[i])\n",
        "  i = i + 1\n",
        "\n",
        "print()\n",
        "\n",
        "for i in range(len(x)):\n",
        "  print(x[i])\n",
        "\n",
        "print()\n",
        "\n",
        "for item in x:\n",
        "  print(item)\n",
        "\n",
        "\n",
        "\n",
        "\n"
      ],
      "metadata": {
        "colab": {
          "base_uri": "https://localhost:8080/"
        },
        "id": "R1hHTM-EftDH",
        "outputId": "ce733422-61e5-4de5-885b-d41dadd85679"
      },
      "execution_count": 3,
      "outputs": [
        {
          "output_type": "stream",
          "name": "stdout",
          "text": [
            "apple\n",
            "banana\n",
            "berry\n",
            "45\n",
            "56.7\n",
            "True\n",
            "\n",
            "apple\n",
            "banana\n",
            "berry\n",
            "45\n",
            "56.7\n",
            "True\n",
            "\n",
            "apple\n",
            "banana\n",
            "berry\n",
            "45\n",
            "56.7\n",
            "True\n"
          ]
        }
      ]
    },
    {
      "cell_type": "markdown",
      "source": [
        "**Slicing**"
      ],
      "metadata": {
        "id": "UXtLozEDgRak"
      }
    },
    {
      "cell_type": "code",
      "source": [
        "#list type\n",
        "x = [\"apple\", \"banana\", \"berry\", 45, 56.7, True]\n",
        "\n",
        "print(x[0:2])\n",
        "print(x[1:3])\n",
        "\n",
        "print(x[2:])\n",
        "print(x[:4])\n",
        "\n",
        "print(x[0:5])\n",
        "print(x[0:5:2])"
      ],
      "metadata": {
        "colab": {
          "base_uri": "https://localhost:8080/"
        },
        "id": "1IcBbN2fgGNU",
        "outputId": "1e6e9ef3-1ef7-455a-9efe-5c059e1f4b42"
      },
      "execution_count": 4,
      "outputs": [
        {
          "output_type": "stream",
          "name": "stdout",
          "text": [
            "['apple', 'banana']\n",
            "['banana', 'berry']\n",
            "['berry', 45, 56.7, True]\n",
            "['apple', 'banana', 'berry', 45]\n",
            "['apple', 'banana', 'berry', 45, 56.7]\n",
            "['apple', 'berry', 56.7]\n"
          ]
        }
      ]
    },
    {
      "cell_type": "markdown",
      "source": [
        "**string type**"
      ],
      "metadata": {
        "id": "KrofRhUegjH5"
      }
    },
    {
      "cell_type": "code",
      "source": [
        "x = \"Python-For-Artificial-Intelligence\"\n",
        "\n",
        "print(x[0:2])\n",
        "print(x[1:3])\n",
        "\n",
        "print(x[2:])\n",
        "print(x[:4])\n",
        "\n",
        "print(x[0:5])\n",
        "print(x[0:5:2])"
      ],
      "metadata": {
        "colab": {
          "base_uri": "https://localhost:8080/"
        },
        "id": "r-s7nU1GgTRq",
        "outputId": "dd1e2e07-5787-48b8-cea8-3da6c866f233"
      },
      "execution_count": 5,
      "outputs": [
        {
          "output_type": "stream",
          "name": "stdout",
          "text": [
            "Py\n",
            "yt\n",
            "thon-For-Artificial-Intelligence\n",
            "Pyth\n",
            "Pytho\n",
            "Pto\n"
          ]
        }
      ]
    },
    {
      "cell_type": "markdown",
      "source": [
        "**Dictionary**"
      ],
      "metadata": {
        "id": "TFJsgCU-g1Ec"
      }
    },
    {
      "cell_type": "code",
      "source": [
        "thisdict = {\"id\" : 100, \"name\" : \"Saman\", \"salary\" : 50000.0}\n",
        "\n",
        "print(thisdict)\n",
        "\n",
        "# Accessing elements\n",
        "print(thisdict[\"id\"])\n",
        "print(thisdict[\"name\"])\n",
        "print(thisdict[\"salary\"])\n",
        "\n",
        "#Adding elements\n",
        "thisdict[\"bonus\"] = 10000\n",
        "print(thisdict)\n",
        "\n",
        "#modifying elements\n",
        "thisdict[\"salary\"] = 60000.0\n",
        "print(thisdict)\n",
        "\n",
        "#modifying elements\n",
        "thisdict[\"Bonus\"] = 20000.0\n",
        "print(thisdict)\n",
        "\n",
        "#adding other collections\n",
        "thisdict[\"address\"] = {\"no\" : 51, \"street\" : \"1st lane\", \"town\" : \"kandy\"}\n",
        "thisdict[\"mobile\"] = [\"0718921122\", \"0723232222\"]\n",
        "\n",
        "print(thisdict)\n",
        "\n",
        "# town\n",
        "print(thisdict[\"address\"])\n",
        "print(thisdict[\"address\"][\"town\"])\n",
        "\n",
        "# 2nd mobile number\n",
        "print(thisdict[\"mobile\"])\n",
        "print(thisdict[\"mobile\"][1])"
      ],
      "metadata": {
        "colab": {
          "base_uri": "https://localhost:8080/"
        },
        "id": "YCwuj2ROglSx",
        "outputId": "99ef1504-5520-448b-b17e-0a0ed5b7713c"
      },
      "execution_count": 6,
      "outputs": [
        {
          "output_type": "stream",
          "name": "stdout",
          "text": [
            "{'id': 100, 'name': 'Saman', 'salary': 50000.0}\n",
            "100\n",
            "Saman\n",
            "50000.0\n",
            "{'id': 100, 'name': 'Saman', 'salary': 50000.0, 'bonus': 10000}\n",
            "{'id': 100, 'name': 'Saman', 'salary': 60000.0, 'bonus': 10000}\n",
            "{'id': 100, 'name': 'Saman', 'salary': 60000.0, 'bonus': 10000, 'Bonus': 20000.0}\n",
            "{'id': 100, 'name': 'Saman', 'salary': 60000.0, 'bonus': 10000, 'Bonus': 20000.0, 'address': {'no': 51, 'street': '1st lane', 'town': 'kandy'}, 'mobile': ['0718921122', '0723232222']}\n",
            "{'no': 51, 'street': '1st lane', 'town': 'kandy'}\n",
            "kandy\n",
            "['0718921122', '0723232222']\n",
            "0723232222\n"
          ]
        }
      ]
    },
    {
      "cell_type": "markdown",
      "source": [
        "**Range**"
      ],
      "metadata": {
        "id": "lq6bBdoMg-YF"
      }
    },
    {
      "cell_type": "code",
      "source": [
        "x = range(10)\n",
        "print(x)\n",
        "for no in x:\n",
        "  print(no)\n",
        "\n",
        "print()\n",
        "x = range(10, 20)\n",
        "print(x)\n",
        "for no in x:\n",
        "  print(no)\n",
        "\n",
        "print()\n",
        "x = range(10, 20, 2)\n",
        "print (x)\n",
        "for no in x:\n",
        "  print(no)\n",
        "\n",
        "\n",
        "\n",
        "for no in range(10):\n",
        "  print(no)\n",
        "\n",
        "for no in range(10,20):\n",
        "  print(no)\n",
        "\n",
        "for no in range(10, 20, 2):\n",
        "  print(no)"
      ],
      "metadata": {
        "colab": {
          "base_uri": "https://localhost:8080/"
        },
        "id": "WS5MyuWeg4H0",
        "outputId": "55021a4b-75be-48dd-b4ec-df0486488417"
      },
      "execution_count": 7,
      "outputs": [
        {
          "output_type": "stream",
          "name": "stdout",
          "text": [
            "range(0, 10)\n",
            "0\n",
            "1\n",
            "2\n",
            "3\n",
            "4\n",
            "5\n",
            "6\n",
            "7\n",
            "8\n",
            "9\n",
            "\n",
            "range(10, 20)\n",
            "10\n",
            "11\n",
            "12\n",
            "13\n",
            "14\n",
            "15\n",
            "16\n",
            "17\n",
            "18\n",
            "19\n",
            "\n",
            "range(10, 20, 2)\n",
            "10\n",
            "12\n",
            "14\n",
            "16\n",
            "18\n",
            "0\n",
            "1\n",
            "2\n",
            "3\n",
            "4\n",
            "5\n",
            "6\n",
            "7\n",
            "8\n",
            "9\n",
            "10\n",
            "11\n",
            "12\n",
            "13\n",
            "14\n",
            "15\n",
            "16\n",
            "17\n",
            "18\n",
            "19\n",
            "10\n",
            "12\n",
            "14\n",
            "16\n",
            "18\n"
          ]
        }
      ]
    },
    {
      "cell_type": "markdown",
      "source": [
        "**Numpy**"
      ],
      "metadata": {
        "id": "lJFaoJsshHWX"
      }
    },
    {
      "cell_type": "code",
      "source": [
        "#importing NumPy\n",
        "import numpy as np # We are giving an alias to numpy as np, this is a general standard\n",
        "a = np.array([1,2,3,4,5]) # defines a numpy array, here data have to be the same type\n",
        "print(a)\n",
        "# 2D Arrays\n",
        "# more than one dimensions\n",
        "a = np.array([[1, 2], [3, 4],[5,6]])\n",
        "print (a)\n",
        "\n",
        "# dtype parameter\n",
        "a = np.array([1, 2, 3, 4, 5], dtype = float)\n",
        "# here the data type of the array\n",
        "# is given as float\n",
        "print (a)\n",
        "\n",
        "# Shape function\n",
        "a = np.array([[1,2,3],[4,5,6]])\n",
        "print(a.shape) # Dimensions of the array\n",
        "# (2, 3) - 2D Array - with 2 rows and 3 columns each\n",
        "\n",
        "a = np.array([[[1,2,3],[4,5,6]],\n",
        "               [[7,8,9],[10,11,12]],\n",
        "               [[13,14,15], [16,17,18]],\n",
        "               [[17,18,19],[20,21,22]]])\n",
        "print(a.shape) # Dimensions of the array\n",
        "# (4,2,3) - 3D array as dimensions 4, 2, 3\n",
        "\n",
        "# printing specific values\n",
        "print(a[0]) # First element\n",
        "print(a[1]) # Second element\n",
        "print(a[0][0]) # First Dimension, 1st element\n",
        "print(a[0][1]) # First Dimension, 2nd element\n",
        "print(a[0][0][0]) # First Dimension, 1st element, 1st value\n",
        "print(a[0][0][1]) # First Dimension, 1st element, 2nd value\n",
        "print(a[0][0][2]) # First Dimension, 1st element, 3rd value\n",
        "\n",
        "# Reshaping Arrays\n",
        "# You can change the number of dimensions in the array\n",
        "a = np.array([[1,2,3],[4,5,6]])\n",
        "b = a.reshape(3,2)\n",
        "print (b)\n",
        "c = a.reshape(6)\n",
        "print(c)\n",
        "\n",
        "# A 2D array initialized to zero\n",
        "x = np.zeros([10,5], dtype = int)\n",
        "print (x)\n",
        "\n",
        "# A 2D array initialized to ones\n",
        "x = np.ones([10,5], dtype = int)\n",
        "print (x)\n",
        "\n",
        "# generate an array with start and stop parameters set\n",
        "x = np.arange(10,20,2)\n",
        "print (x)\n",
        "\n",
        "# generate an array of evenly spaced numbers between a given range\n",
        "x = np.linspace(10,20,5)\n",
        "print (x)\n",
        "\n",
        "# Slicing\n",
        "mylist = np.array([10,20,30,40,50,60,70,80,90,100])\n",
        "print(mylist)\n",
        "print(mylist[1]) # second element in array\n",
        "print(mylist[2:5]) # prints 3rd, 4th and 5th elements in the array\n",
        "print(mylist[2:]) # print all the elements from the 3rd element\n",
        "print(mylist[:5]) # print all the elements upto the 5th element\n",
        "print(mylist[len(mylist)-1])\n",
        "print(mylist[-1])\n",
        "print(mylist[-(len(mylist))])\n",
        "\n",
        "# Array Manipulations\n",
        "# In python you can perform direct array\n",
        "#.  operations unlike other programming\n",
        "#.  languages\n",
        "\n",
        "a = np.array([10,20,30,40,50])\n",
        "b = np.array([2, 3, 4, 5, 6])\n",
        "c = a + b\n",
        "print(c)\n",
        "c = a - b\n",
        "print(c)\n",
        "c = a * b\n",
        "print(c)\n",
        "c = a / b\n",
        "print(c)\n",
        "c = a * 2\n",
        "print(c)\n",
        "c = a * 2 + 5\n",
        "print(c)\n",
        "c = b ** 2\n",
        "print(c)\n",
        "\n",
        "print(a.sum())\n",
        "print(a.min())\n",
        "print(a.max())\n",
        "print(a.mean())\n",
        "\n",
        "\n"
      ],
      "metadata": {
        "colab": {
          "base_uri": "https://localhost:8080/"
        },
        "id": "Dn_m6mhOhCDb",
        "outputId": "34008139-b7f3-478b-e283-39ba80ab4c9b"
      },
      "execution_count": 8,
      "outputs": [
        {
          "output_type": "stream",
          "name": "stdout",
          "text": [
            "[1 2 3 4 5]\n",
            "[[1 2]\n",
            " [3 4]\n",
            " [5 6]]\n",
            "[1. 2. 3. 4. 5.]\n",
            "(2, 3)\n",
            "(4, 2, 3)\n",
            "[[1 2 3]\n",
            " [4 5 6]]\n",
            "[[ 7  8  9]\n",
            " [10 11 12]]\n",
            "[1 2 3]\n",
            "[4 5 6]\n",
            "1\n",
            "2\n",
            "3\n",
            "[[1 2]\n",
            " [3 4]\n",
            " [5 6]]\n",
            "[1 2 3 4 5 6]\n",
            "[[0 0 0 0 0]\n",
            " [0 0 0 0 0]\n",
            " [0 0 0 0 0]\n",
            " [0 0 0 0 0]\n",
            " [0 0 0 0 0]\n",
            " [0 0 0 0 0]\n",
            " [0 0 0 0 0]\n",
            " [0 0 0 0 0]\n",
            " [0 0 0 0 0]\n",
            " [0 0 0 0 0]]\n",
            "[[1 1 1 1 1]\n",
            " [1 1 1 1 1]\n",
            " [1 1 1 1 1]\n",
            " [1 1 1 1 1]\n",
            " [1 1 1 1 1]\n",
            " [1 1 1 1 1]\n",
            " [1 1 1 1 1]\n",
            " [1 1 1 1 1]\n",
            " [1 1 1 1 1]\n",
            " [1 1 1 1 1]]\n",
            "[10 12 14 16 18]\n",
            "[10.  12.5 15.  17.5 20. ]\n",
            "[ 10  20  30  40  50  60  70  80  90 100]\n",
            "20\n",
            "[30 40 50]\n",
            "[ 30  40  50  60  70  80  90 100]\n",
            "[10 20 30 40 50]\n",
            "100\n",
            "100\n",
            "10\n",
            "[12 23 34 45 56]\n",
            "[ 8 17 26 35 44]\n",
            "[ 20  60 120 200 300]\n",
            "[5.         6.66666667 7.5        8.         8.33333333]\n",
            "[ 20  40  60  80 100]\n",
            "[ 25  45  65  85 105]\n",
            "[ 4  9 16 25 36]\n",
            "150\n",
            "10\n",
            "50\n",
            "30.0\n"
          ]
        }
      ]
    },
    {
      "cell_type": "markdown",
      "source": [
        "**Function**"
      ],
      "metadata": {
        "id": "JKZ3s2pKhTAu"
      }
    },
    {
      "cell_type": "code",
      "source": [
        "def hello():\n",
        "  print(\"Hello World\")\n",
        "\n",
        "def add(no1, no2):\n",
        "  return no1 + no2\n",
        "\n",
        "def divmod(no1, no2):\n",
        "  return no1 // no2, no1 % no2\n",
        "\n",
        "hello()\n",
        "print(add(5,2))\n",
        "a, b = divmod(10,3)\n",
        "print (a)\n",
        "print (b)\n",
        "\n",
        "\n",
        "def divmod(no1, no2):\n",
        "  return no1 // no2, no1 % no2\n",
        "\n",
        "a, b = divmod(10,3)\n",
        "\n",
        "\n"
      ],
      "metadata": {
        "colab": {
          "base_uri": "https://localhost:8080/"
        },
        "id": "xuwKPkfghMwk",
        "outputId": "c83e1cef-9b62-49f9-9565-a73146883f82"
      },
      "execution_count": 9,
      "outputs": [
        {
          "output_type": "stream",
          "name": "stdout",
          "text": [
            "Hello World\n",
            "7\n",
            "3\n",
            "1\n"
          ]
        }
      ]
    },
    {
      "cell_type": "markdown",
      "source": [
        "**Modules**"
      ],
      "metadata": {
        "id": "uhgM6Zw3hZTH"
      }
    },
    {
      "cell_type": "code",
      "source": [
        "#importing a module\n",
        "#import the module test as t\n",
        "\n",
        "import test as t\n",
        "t.hello()\n",
        "a, b, c, d = t.calc(40,2)\n",
        "print(a)\n",
        "print(b)\n",
        "print(c)\n",
        "print(d)\n",
        "\n",
        "\n",
        "#importing a specific function and giving it an alias\n",
        "from test import hello as greet\n",
        "greet()\n"
      ],
      "metadata": {
        "colab": {
          "base_uri": "https://localhost:8080/",
          "height": 219
        },
        "id": "mMGHhexChU2j",
        "outputId": "fad5c091-5593-4fd8-8b1f-17f22555b88f"
      },
      "execution_count": 24,
      "outputs": [
        {
          "output_type": "error",
          "ename": "AttributeError",
          "evalue": "module 'test' has no attribute 'hello'",
          "traceback": [
            "\u001b[0;31m---------------------------------------------------------------------------\u001b[0m",
            "\u001b[0;31mAttributeError\u001b[0m                            Traceback (most recent call last)",
            "\u001b[0;32m/tmp/ipython-input-1895017849.py\u001b[0m in \u001b[0;36m<cell line: 0>\u001b[0;34m()\u001b[0m\n\u001b[1;32m      3\u001b[0m \u001b[0;34m\u001b[0m\u001b[0m\n\u001b[1;32m      4\u001b[0m \u001b[0;32mimport\u001b[0m \u001b[0mtest\u001b[0m \u001b[0;32mas\u001b[0m \u001b[0mt\u001b[0m\u001b[0;34m\u001b[0m\u001b[0;34m\u001b[0m\u001b[0m\n\u001b[0;32m----> 5\u001b[0;31m \u001b[0mt\u001b[0m\u001b[0;34m.\u001b[0m\u001b[0mhello\u001b[0m\u001b[0;34m(\u001b[0m\u001b[0;34m)\u001b[0m\u001b[0;34m\u001b[0m\u001b[0;34m\u001b[0m\u001b[0m\n\u001b[0m\u001b[1;32m      6\u001b[0m \u001b[0ma\u001b[0m\u001b[0;34m,\u001b[0m \u001b[0mb\u001b[0m\u001b[0;34m,\u001b[0m \u001b[0mc\u001b[0m\u001b[0;34m,\u001b[0m \u001b[0md\u001b[0m \u001b[0;34m=\u001b[0m \u001b[0mt\u001b[0m\u001b[0;34m.\u001b[0m\u001b[0mcalc\u001b[0m\u001b[0;34m(\u001b[0m\u001b[0;36m40\u001b[0m\u001b[0;34m,\u001b[0m\u001b[0;36m2\u001b[0m\u001b[0;34m)\u001b[0m\u001b[0;34m\u001b[0m\u001b[0;34m\u001b[0m\u001b[0m\n\u001b[1;32m      7\u001b[0m \u001b[0mprint\u001b[0m\u001b[0;34m(\u001b[0m\u001b[0ma\u001b[0m\u001b[0;34m)\u001b[0m\u001b[0;34m\u001b[0m\u001b[0;34m\u001b[0m\u001b[0m\n",
            "\u001b[0;31mAttributeError\u001b[0m: module 'test' has no attribute 'hello'"
          ]
        }
      ]
    },
    {
      "cell_type": "code",
      "source": [],
      "metadata": {
        "id": "zlPsPCG7jZ30"
      },
      "execution_count": null,
      "outputs": []
    },
    {
      "cell_type": "code",
      "source": [
        "#importing a class\n",
        "from Person import Person\n",
        "p1 = Person(\"Nimal\", 23)\n",
        "p1.myfunc()\n",
        "\n",
        "#importing a class\n",
        "from Person import Person as P\n",
        "p1 = P(\"Rajitha\", 19)\n",
        "p1.myfunc()\n",
        "\n",
        "mylist = [Person(\"Ajith\", 23), Person(\"Amali\",18)]\n",
        "\n",
        "for x in mylist:\n",
        "  x.myfunc()"
      ],
      "metadata": {
        "colab": {
          "base_uri": "https://localhost:8080/",
          "height": 399
        },
        "id": "lVFeqVbQhbNX",
        "outputId": "b38e4c48-2474-48ec-beaa-70c5bd14010a"
      },
      "execution_count": 12,
      "outputs": [
        {
          "output_type": "error",
          "ename": "ModuleNotFoundError",
          "evalue": "No module named 'Person'",
          "traceback": [
            "\u001b[0;31m---------------------------------------------------------------------------\u001b[0m",
            "\u001b[0;31mModuleNotFoundError\u001b[0m                       Traceback (most recent call last)",
            "\u001b[0;32m/tmp/ipython-input-217471382.py\u001b[0m in \u001b[0;36m<cell line: 0>\u001b[0;34m()\u001b[0m\n\u001b[1;32m      1\u001b[0m \u001b[0;31m#importing a class\u001b[0m\u001b[0;34m\u001b[0m\u001b[0;34m\u001b[0m\u001b[0m\n\u001b[0;32m----> 2\u001b[0;31m \u001b[0;32mfrom\u001b[0m \u001b[0mPerson\u001b[0m \u001b[0;32mimport\u001b[0m \u001b[0mPerson\u001b[0m\u001b[0;34m\u001b[0m\u001b[0;34m\u001b[0m\u001b[0m\n\u001b[0m\u001b[1;32m      3\u001b[0m \u001b[0mp1\u001b[0m \u001b[0;34m=\u001b[0m \u001b[0mPerson\u001b[0m\u001b[0;34m(\u001b[0m\u001b[0;34m\"Nimal\"\u001b[0m\u001b[0;34m,\u001b[0m \u001b[0;36m23\u001b[0m\u001b[0;34m)\u001b[0m\u001b[0;34m\u001b[0m\u001b[0;34m\u001b[0m\u001b[0m\n\u001b[1;32m      4\u001b[0m \u001b[0mp1\u001b[0m\u001b[0;34m.\u001b[0m\u001b[0mmyfunc\u001b[0m\u001b[0;34m(\u001b[0m\u001b[0;34m)\u001b[0m\u001b[0;34m\u001b[0m\u001b[0;34m\u001b[0m\u001b[0m\n\u001b[1;32m      5\u001b[0m \u001b[0;34m\u001b[0m\u001b[0m\n",
            "\u001b[0;31mModuleNotFoundError\u001b[0m: No module named 'Person'",
            "",
            "\u001b[0;31m---------------------------------------------------------------------------\u001b[0;32m\nNOTE: If your import is failing due to a missing package, you can\nmanually install dependencies using either !pip or !apt.\n\nTo view examples of installing some common dependencies, click the\n\"Open Examples\" button below.\n\u001b[0;31m---------------------------------------------------------------------------\u001b[0m\n"
          ],
          "errorDetails": {
            "actions": [
              {
                "action": "open_url",
                "actionText": "Open Examples",
                "url": "/notebooks/snippets/importing_libraries.ipynb"
              }
            ]
          }
        }
      ]
    },
    {
      "cell_type": "code",
      "source": [
        "\n",
        "mylist = []\n",
        "for r in range(10):\n",
        "  mylist.append(r)\n",
        "print(mylist)\n",
        "\n",
        "mylist2 = [n for n in range(10)]\n",
        "print(mylist2)\n",
        "\n",
        "mylist2 = [2*n+1 for n in range(10)]\n",
        "print(mylist2)\n",
        "\n",
        "mylist2 = [2*n for n in range(10,100,5)]\n",
        "print(mylist2)\n",
        "\n",
        "mylist = [10, 45, 22, 89, 55, 34, 90 ]\n",
        "\n",
        "y = [no for no in mylist if no >= 50]\n",
        "print(y)\n",
        "\n",
        "import numpy as np\n",
        "myarr = np.array([1,2,3,4,5])\n",
        "b = [2 * no for no in myarr]\n",
        "print(b)\n",
        "\n",
        "def genPowLists(start, end):\n",
        "  x = np.array([no for no in range(start, end+1)])\n",
        "  y = x ** 2\n",
        "  return (x, y)\n",
        "\n",
        "\n",
        "(a, b) = genPowLists(2,9)\n",
        "print(a)\n",
        "print(b)\n",
        "\n",
        "k = genPowLists(10,13)\n",
        "print(k[0])\n",
        "print(k[1])\n",
        "\n",
        "\n"
      ],
      "metadata": {
        "colab": {
          "base_uri": "https://localhost:8080/"
        },
        "id": "Le5bYIyBh1xq",
        "outputId": "20120301-4827-402a-ab39-1ecadceb442b"
      },
      "execution_count": 13,
      "outputs": [
        {
          "output_type": "stream",
          "name": "stdout",
          "text": [
            "[0, 1, 2, 3, 4, 5, 6, 7, 8, 9]\n",
            "[0, 1, 2, 3, 4, 5, 6, 7, 8, 9]\n",
            "[1, 3, 5, 7, 9, 11, 13, 15, 17, 19]\n",
            "[20, 30, 40, 50, 60, 70, 80, 90, 100, 110, 120, 130, 140, 150, 160, 170, 180, 190]\n",
            "[89, 55, 90]\n",
            "[np.int64(2), np.int64(4), np.int64(6), np.int64(8), np.int64(10)]\n",
            "[2 3 4 5 6 7 8 9]\n",
            "[ 4  9 16 25 36 49 64 81]\n",
            "[10 11 12 13]\n",
            "[100 121 144 169]\n"
          ]
        }
      ]
    },
    {
      "cell_type": "markdown",
      "source": [
        "**Tensorflow**"
      ],
      "metadata": {
        "id": "H7EMH6r9iAZv"
      }
    },
    {
      "cell_type": "code",
      "source": [
        "\n",
        "import tensorflow as tf\n",
        "\n",
        "mnist = tf.keras.datasets.mnist\n",
        "\n",
        "(x_train, y_train), (x_test, y_test) = mnist.load_data()\n",
        "\n",
        "x_train, x_test = x_train / 255.0, x_test / 255.0\n",
        "\n",
        "\n",
        "model = tf.keras.models.Sequential([\n",
        "  tf.keras.layers.Flatten(input_shape=(28, 28)),\n",
        "  tf.keras.layers.Dense(128, activation='relu'),\n",
        "  tf.keras.layers.Dropout(0.2),\n",
        "  tf.keras.layers.Dense(10)\n",
        "])\n",
        "\n"
      ],
      "metadata": {
        "colab": {
          "base_uri": "https://localhost:8080/"
        },
        "id": "kPIoq14uh5HO",
        "outputId": "e01e56ea-7114-46b4-933c-df699facf32f"
      },
      "execution_count": 14,
      "outputs": [
        {
          "output_type": "stream",
          "name": "stdout",
          "text": [
            "Downloading data from https://storage.googleapis.com/tensorflow/tf-keras-datasets/mnist.npz\n",
            "\u001b[1m11490434/11490434\u001b[0m \u001b[32m━━━━━━━━━━━━━━━━━━━━\u001b[0m\u001b[37m\u001b[0m \u001b[1m0s\u001b[0m 0us/step\n"
          ]
        },
        {
          "output_type": "stream",
          "name": "stderr",
          "text": [
            "/usr/local/lib/python3.12/dist-packages/keras/src/layers/reshaping/flatten.py:37: UserWarning: Do not pass an `input_shape`/`input_dim` argument to a layer. When using Sequential models, prefer using an `Input(shape)` object as the first layer in the model instead.\n",
            "  super().__init__(**kwargs)\n"
          ]
        }
      ]
    },
    {
      "cell_type": "markdown",
      "source": [
        "**isEqual**"
      ],
      "metadata": {
        "id": "Y2ONmXsbiHYq"
      }
    },
    {
      "cell_type": "code",
      "source": [
        "x = [\"apple\", \"banana\"]\n",
        "y = [\"apple\", \"banana\"]\n",
        "z = x\n",
        "\n",
        "print(x is z)\n",
        "\n",
        "# returns True because z is the same object as x\n",
        "\n",
        "print(x is y)\n",
        "\n",
        "# returns False because x is not the same object as y, even if they have the same content\n",
        "\n",
        "print(x == y)\n",
        "\n",
        "# to demonstrate the difference betweeen \"is\" and \"==\": this comparison returns True because x is equal to y\n",
        "\n"
      ],
      "metadata": {
        "colab": {
          "base_uri": "https://localhost:8080/"
        },
        "id": "6txkWYa0iDgo",
        "outputId": "744882cb-2a1b-4e1b-a394-9940ebc4cbc9"
      },
      "execution_count": 15,
      "outputs": [
        {
          "output_type": "stream",
          "name": "stdout",
          "text": [
            "True\n",
            "False\n",
            "True\n"
          ]
        }
      ]
    },
    {
      "cell_type": "code",
      "source": [
        "#list type\n",
        "x = [\"apple\", \"banana\", \"berry\", 45, 56.7, True]\n",
        "print(x)\n",
        "print(type(x))\n",
        "\n",
        "#tuple type\n",
        "x = (\"apple\", \"banana\", \"cherry\", 45, 56.7, True)\n",
        "print(x)\n",
        "print(type(x))\n",
        "\n",
        "x = range(6)\n",
        "print(x) # range type\n",
        "print(type(x))\n",
        "\n",
        "y=tuple(x)\n",
        "print(y) # typle type\n",
        "print(type(y))\n",
        "\n",
        "z=list(x)\n",
        "print(z) # list type\n",
        "print(type(z))\n",
        "\n",
        "# show imutability of tuples\n",
        "\n",
        "x = [\"apple\", \"banana\", \"berry\", 45, 56.7, True]\n",
        "y = (\"apple\", \"banana\", \"berry\", 45, 56.7, True)\n",
        "print(x)\n",
        "print(y)\n",
        "x[1] = \"Mango\"\n",
        "print(x)\n",
        "#y[1] = \"Mango\" # generates an error\n",
        "\n",
        "# accessing list and tuples element by element\n",
        "\n",
        "for item in x:\n",
        "  print(item)\n",
        "\n",
        "for item in y:\n",
        "  print(item)\n",
        "\n",
        "# combining lists together\n",
        "z = [\"honda\", \"toyota\", \"tesla\"]\n",
        "x = x + z\n",
        "print(x)\n",
        "\n",
        "z = (\"honda\", \"toyota\", \"tesla\")\n",
        "y = y + z\n",
        "print(y)\n",
        "\n",
        "# Basic list operations\n",
        "thislist = [\"apple\", \"banana\", \"cherry\"]\n",
        "print(thislist[0])\n",
        "print(thislist[1])\n",
        "mylist = [10,20,30,40,50,60,70,80,90,100]\n",
        "print(mylist)\n",
        "print(mylist[1]) # second element in list\n",
        "print(mylist[2:5]) # prints 3rd, 4th and 5th elements in the list\n",
        "print(mylist[2:]) # print all the elements from the 3rd element\n",
        "print(mylist[:5]) # print all the elements upto the 5th element\n",
        "\n"
      ],
      "metadata": {
        "colab": {
          "base_uri": "https://localhost:8080/"
        },
        "id": "f0YN9AL5iJyB",
        "outputId": "d2b49d74-428c-412f-ca9f-b5666b4f3794"
      },
      "execution_count": 16,
      "outputs": [
        {
          "output_type": "stream",
          "name": "stdout",
          "text": [
            "['apple', 'banana', 'berry', 45, 56.7, True]\n",
            "<class 'list'>\n",
            "('apple', 'banana', 'cherry', 45, 56.7, True)\n",
            "<class 'tuple'>\n",
            "range(0, 6)\n",
            "<class 'range'>\n",
            "(0, 1, 2, 3, 4, 5)\n",
            "<class 'tuple'>\n",
            "[0, 1, 2, 3, 4, 5]\n",
            "<class 'list'>\n",
            "['apple', 'banana', 'berry', 45, 56.7, True]\n",
            "('apple', 'banana', 'berry', 45, 56.7, True)\n",
            "['apple', 'Mango', 'berry', 45, 56.7, True]\n",
            "apple\n",
            "Mango\n",
            "berry\n",
            "45\n",
            "56.7\n",
            "True\n",
            "apple\n",
            "banana\n",
            "berry\n",
            "45\n",
            "56.7\n",
            "True\n",
            "['apple', 'Mango', 'berry', 45, 56.7, True, 'honda', 'toyota', 'tesla']\n",
            "('apple', 'banana', 'berry', 45, 56.7, True, 'honda', 'toyota', 'tesla')\n",
            "apple\n",
            "banana\n",
            "[10, 20, 30, 40, 50, 60, 70, 80, 90, 100]\n",
            "20\n",
            "[30, 40, 50]\n",
            "[30, 40, 50, 60, 70, 80, 90, 100]\n",
            "[10, 20, 30, 40, 50]\n"
          ]
        }
      ]
    },
    {
      "cell_type": "code",
      "source": [],
      "metadata": {
        "id": "JCqW5VLTjgS3"
      },
      "execution_count": null,
      "outputs": []
    }
  ]
}