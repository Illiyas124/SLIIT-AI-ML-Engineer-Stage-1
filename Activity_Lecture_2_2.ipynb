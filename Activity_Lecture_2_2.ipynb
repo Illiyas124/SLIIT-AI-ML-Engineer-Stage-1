{
  "nbformat": 4,
  "nbformat_minor": 0,
  "metadata": {
    "colab": {
      "provenance": []
    },
    "kernelspec": {
      "name": "python3",
      "display_name": "Python 3"
    },
    "language_info": {
      "name": "python"
    }
  },
  "cells": [
    {
      "cell_type": "markdown",
      "source": [
        "Hello World"
      ],
      "metadata": {
        "id": "1FetBH5B_JbV"
      }
    },
    {
      "cell_type": "code",
      "execution_count": 1,
      "metadata": {
        "colab": {
          "base_uri": "https://localhost:8080/"
        },
        "id": "SCfrKfnq-zIO",
        "outputId": "1fadfc68-cb2d-4ba4-c061-b006d7ba7314"
      },
      "outputs": [
        {
          "output_type": "stream",
          "name": "stdout",
          "text": [
            "Hello World\n"
          ]
        }
      ],
      "source": [
        "print(\"Hello World\")"
      ]
    },
    {
      "cell_type": "markdown",
      "source": [
        "Data Type"
      ],
      "metadata": {
        "id": "UHVe6bCi_P6e"
      }
    },
    {
      "cell_type": "code",
      "source": [
        "#int type\n",
        "x = 50\n",
        "print(x)\n",
        "print(type(x))"
      ],
      "metadata": {
        "colab": {
          "base_uri": "https://localhost:8080/"
        },
        "id": "UjZXHfGL_Gx8",
        "outputId": "25713b13-06d0-4e10-88ea-9570a0d4514e"
      },
      "execution_count": 2,
      "outputs": [
        {
          "output_type": "stream",
          "name": "stdout",
          "text": [
            "50\n",
            "<class 'int'>\n"
          ]
        }
      ]
    },
    {
      "cell_type": "code",
      "source": [
        "#float type\n",
        "x = 34.5\n",
        "print(x)\n",
        "print(type(x))\n"
      ],
      "metadata": {
        "colab": {
          "base_uri": "https://localhost:8080/"
        },
        "id": "P-8RzAXc_UaH",
        "outputId": "c094d6a9-1a88-494f-f669-5a773aeee579"
      },
      "execution_count": 3,
      "outputs": [
        {
          "output_type": "stream",
          "name": "stdout",
          "text": [
            "34.5\n",
            "<class 'float'>\n"
          ]
        }
      ]
    },
    {
      "cell_type": "code",
      "source": [
        "#boo type\n",
        "x = True\n",
        "print(x)\n",
        "print(type(x))\n"
      ],
      "metadata": {
        "colab": {
          "base_uri": "https://localhost:8080/"
        },
        "id": "s82ilC7i_WnD",
        "outputId": "d49f8c8d-5635-4772-d621-d69592c97aeb"
      },
      "execution_count": 4,
      "outputs": [
        {
          "output_type": "stream",
          "name": "stdout",
          "text": [
            "True\n",
            "<class 'bool'>\n"
          ]
        }
      ]
    },
    {
      "cell_type": "code",
      "source": [
        "#str type\n",
        "x = \"Hello World\"\n",
        "print(x)\n",
        "print(type(x))\n"
      ],
      "metadata": {
        "colab": {
          "base_uri": "https://localhost:8080/"
        },
        "id": "Beyxvphy_ZnU",
        "outputId": "dde6972e-a7e3-474a-9500-8dc81d5281e0"
      },
      "execution_count": 5,
      "outputs": [
        {
          "output_type": "stream",
          "name": "stdout",
          "text": [
            "Hello World\n",
            "<class 'str'>\n"
          ]
        }
      ]
    },
    {
      "cell_type": "markdown",
      "source": [
        "Operators"
      ],
      "metadata": {
        "id": "yaQ-k7Fe_eGP"
      }
    },
    {
      "cell_type": "code",
      "source": [
        "x = 15\n",
        "y = 2\n",
        "z1 = x + y\n",
        "z2 = x - y\n",
        "z3 = x * y\n",
        "z4 = x / y"
      ],
      "metadata": {
        "id": "SBd3_0-n_bl9"
      },
      "execution_count": 6,
      "outputs": []
    },
    {
      "cell_type": "code",
      "source": [
        "print(z1)\n",
        "print(z2)\n",
        "print(z3)\n",
        "print(z4)"
      ],
      "metadata": {
        "colab": {
          "base_uri": "https://localhost:8080/"
        },
        "id": "zEjBra-M_jmV",
        "outputId": "51f3caa7-3bc9-47fc-d757-5ba0bc23ad70"
      },
      "execution_count": 10,
      "outputs": [
        {
          "output_type": "stream",
          "name": "stdout",
          "text": [
            "17\n",
            "13\n",
            "30\n",
            "7.5\n"
          ]
        }
      ]
    },
    {
      "cell_type": "code",
      "source": [
        "z5 = x // y # Floor Division\n",
        "z6 = x % y # Modulus\n",
        "z7 = x ** y # Exponentation"
      ],
      "metadata": {
        "id": "wziG0MDq_qI9"
      },
      "execution_count": 8,
      "outputs": []
    },
    {
      "cell_type": "code",
      "source": [
        "print(z5)\n",
        "print(z6)\n",
        "print(z7)"
      ],
      "metadata": {
        "colab": {
          "base_uri": "https://localhost:8080/"
        },
        "id": "i4MP6ZUv_uBD",
        "outputId": "e894c283-1e42-4ebc-8b6c-c24252db575a"
      },
      "execution_count": 9,
      "outputs": [
        {
          "output_type": "stream",
          "name": "stdout",
          "text": [
            "7\n",
            "1\n",
            "225\n"
          ]
        }
      ]
    },
    {
      "cell_type": "markdown",
      "source": [
        "Variables"
      ],
      "metadata": {
        "id": "tjc7jCsL_zuj"
      }
    },
    {
      "cell_type": "code",
      "source": [
        "a = 10\n",
        "b = 20\n",
        "print(a)\n",
        "print(b)"
      ],
      "metadata": {
        "colab": {
          "base_uri": "https://localhost:8080/"
        },
        "id": "DdeoIdC9_wgU",
        "outputId": "9fba25ce-0d57-4e14-e63b-a949e3c1bd10"
      },
      "execution_count": 11,
      "outputs": [
        {
          "output_type": "stream",
          "name": "stdout",
          "text": [
            "10\n",
            "20\n"
          ]
        }
      ]
    },
    {
      "cell_type": "markdown",
      "source": [
        "Variables - Case sensitive"
      ],
      "metadata": {
        "id": "dDnnlmWt_7FN"
      }
    },
    {
      "cell_type": "code",
      "source": [
        "age = 27\n",
        "Age = 56\n",
        "AGE = 34\n",
        "AGe = 23\n",
        "print(age)\n",
        "print(Age)\n",
        "print(AGE)\n",
        "print(AGe)"
      ],
      "metadata": {
        "colab": {
          "base_uri": "https://localhost:8080/"
        },
        "id": "XcDidrMu_2yL",
        "outputId": "097c0c84-e6a4-4a86-b1a9-18ba9423b318"
      },
      "execution_count": 13,
      "outputs": [
        {
          "output_type": "stream",
          "name": "stdout",
          "text": [
            "27\n",
            "56\n",
            "34\n",
            "23\n"
          ]
        }
      ]
    },
    {
      "cell_type": "markdown",
      "source": [
        "MinMax Calculations"
      ],
      "metadata": {
        "id": "2rCQtlv2ANy9"
      }
    },
    {
      "cell_type": "code",
      "source": [
        "#Get user inputs\n",
        "x = int(input(\"Enter value 1 \"))\n",
        "y = int(input(\"Enter value 2 \"))\n",
        "z = int(input(\"Enter value 3 \"))"
      ],
      "metadata": {
        "colab": {
          "base_uri": "https://localhost:8080/"
        },
        "id": "Z4V51XDoAAtP",
        "outputId": "0861d8ff-43fa-482c-ee2a-e72f365b0f59"
      },
      "execution_count": 14,
      "outputs": [
        {
          "name": "stdout",
          "output_type": "stream",
          "text": [
            "Enter value 1 12\n",
            "Enter value 2 24\n",
            "Enter value 3 36\n"
          ]
        }
      ]
    },
    {
      "cell_type": "code",
      "source": [
        "minimum = min(x,y,z)\n",
        "maximum = max(x,y,z)"
      ],
      "metadata": {
        "id": "5-HPK3dmAXSm"
      },
      "execution_count": 15,
      "outputs": []
    },
    {
      "cell_type": "code",
      "source": [
        "print (\"Minimum value is \", minimum)\n",
        "print (\"Maximum value is \", maximum)"
      ],
      "metadata": {
        "colab": {
          "base_uri": "https://localhost:8080/"
        },
        "id": "lwrFC0L7AcQa",
        "outputId": "942d27df-8b29-43f5-b5ac-b4be6c5730df"
      },
      "execution_count": 16,
      "outputs": [
        {
          "output_type": "stream",
          "name": "stdout",
          "text": [
            "Minimum value is  12\n",
            "Maximum value is  36\n"
          ]
        }
      ]
    },
    {
      "cell_type": "markdown",
      "source": [
        "Sequence"
      ],
      "metadata": {
        "id": "BKa2LHjXAg8J"
      }
    },
    {
      "cell_type": "code",
      "source": [
        "sum = 0\n",
        "Number1 = int(input(\"Enter Number1 \"))\n",
        "Number2 = int(input(\"Enter Number2 \"))\n",
        "\n",
        "sum = Number1 + Number2\n",
        "\n",
        "print (\"Sum is \", sum)"
      ],
      "metadata": {
        "colab": {
          "base_uri": "https://localhost:8080/"
        },
        "id": "6r7dPisUAimb",
        "outputId": "04bb6ed8-f83b-41ea-bfec-d97c49e258ac"
      },
      "execution_count": 18,
      "outputs": [
        {
          "output_type": "stream",
          "name": "stdout",
          "text": [
            "Enter Number1 155\n",
            "Enter Number2 200\n",
            "Sum is  355\n"
          ]
        }
      ]
    },
    {
      "cell_type": "markdown",
      "source": [
        "Area finding"
      ],
      "metadata": {
        "id": "Dri9A_DmA5gT"
      }
    },
    {
      "cell_type": "code",
      "source": [
        "length = int(input(\"Enter Length \"))\n",
        "width = int(input(\"Enter Width \"))\n",
        "\n",
        "area = length * width\n",
        "perimeter = (2*length) + (2*width)\n",
        "\n",
        "print (\"Area is \", area)\n",
        "print (\"Perimeter is \", perimeter)\n"
      ],
      "metadata": {
        "colab": {
          "base_uri": "https://localhost:8080/"
        },
        "id": "7BNz4ZAzAePy",
        "outputId": "d73879c3-0974-494b-a124-d0d49896e963"
      },
      "execution_count": 19,
      "outputs": [
        {
          "output_type": "stream",
          "name": "stdout",
          "text": [
            "Enter Length 24\n",
            "Enter Width 38\n",
            "Area is  912\n",
            "Perimeter is  124\n"
          ]
        }
      ]
    },
    {
      "cell_type": "markdown",
      "source": [
        "Selection"
      ],
      "metadata": {
        "id": "0h5m5iFnBEac"
      }
    },
    {
      "cell_type": "code",
      "source": [
        "length = int(input(\"Enter Length \"))\n",
        "width = int(input(\"Enter Width \"))\n",
        "\n",
        "if length == width:\n",
        "\t print (\"Figure is a square\")\n"
      ],
      "metadata": {
        "colab": {
          "base_uri": "https://localhost:8080/"
        },
        "id": "MkqyiSnQA98q",
        "outputId": "8637bdaa-591e-4373-9703-c54f900bbd86"
      },
      "execution_count": 20,
      "outputs": [
        {
          "output_type": "stream",
          "name": "stdout",
          "text": [
            "Enter Length 28\n",
            "Enter Width 28\n",
            "Figure is a square\n"
          ]
        }
      ]
    },
    {
      "cell_type": "code",
      "source": [
        "length = int(input(\"Enter Length \"))\n",
        "width = int(input(\"Enter Width \"))\n",
        "\n",
        "if length == width:\n",
        "\t print (\"Figure is a square\")\n",
        "else:\n",
        "\t print (\"Figure is a rectangle\")\n"
      ],
      "metadata": {
        "colab": {
          "base_uri": "https://localhost:8080/"
        },
        "id": "rrnNDokWBIDC",
        "outputId": "4792417f-6a2f-4809-cc58-c033ae4b4073"
      },
      "execution_count": 22,
      "outputs": [
        {
          "output_type": "stream",
          "name": "stdout",
          "text": [
            "Enter Length 28\n",
            "Enter Width 20\n",
            "Figure is a rectangle\n"
          ]
        }
      ]
    },
    {
      "cell_type": "code",
      "source": [
        "DOB = int(input(\"Enter year of birth \"))\n",
        "\n",
        "age = 2025 - DOB\n",
        "\n",
        "if age >= 18:\n",
        "\t print (\"You are an adult..\")\n",
        "else:\n",
        "\t print (\"You are a child..\")\n"
      ],
      "metadata": {
        "colab": {
          "base_uri": "https://localhost:8080/"
        },
        "id": "keD_493ABP9r",
        "outputId": "62fc1a4f-bf31-4ac3-f0bf-63f020c7b8e2"
      },
      "execution_count": 24,
      "outputs": [
        {
          "output_type": "stream",
          "name": "stdout",
          "text": [
            "Enter year of birth 2001\n",
            "You are an adult..\n"
          ]
        }
      ]
    },
    {
      "cell_type": "markdown",
      "source": [
        "Repetition"
      ],
      "metadata": {
        "id": "TpPlE3NqBmmF"
      }
    },
    {
      "cell_type": "code",
      "source": [
        "number = 1\n",
        "\n",
        "while number <= 100:\n",
        "\tprint (number)\n",
        "\tnumber = number + 1\n"
      ],
      "metadata": {
        "colab": {
          "base_uri": "https://localhost:8080/"
        },
        "id": "l0w2uAifBXIf",
        "outputId": "3b691f31-3b87-4386-856a-447b3937b810"
      },
      "execution_count": 25,
      "outputs": [
        {
          "output_type": "stream",
          "name": "stdout",
          "text": [
            "1\n",
            "2\n",
            "3\n",
            "4\n",
            "5\n",
            "6\n",
            "7\n",
            "8\n",
            "9\n",
            "10\n",
            "11\n",
            "12\n",
            "13\n",
            "14\n",
            "15\n",
            "16\n",
            "17\n",
            "18\n",
            "19\n",
            "20\n",
            "21\n",
            "22\n",
            "23\n",
            "24\n",
            "25\n",
            "26\n",
            "27\n",
            "28\n",
            "29\n",
            "30\n",
            "31\n",
            "32\n",
            "33\n",
            "34\n",
            "35\n",
            "36\n",
            "37\n",
            "38\n",
            "39\n",
            "40\n",
            "41\n",
            "42\n",
            "43\n",
            "44\n",
            "45\n",
            "46\n",
            "47\n",
            "48\n",
            "49\n",
            "50\n",
            "51\n",
            "52\n",
            "53\n",
            "54\n",
            "55\n",
            "56\n",
            "57\n",
            "58\n",
            "59\n",
            "60\n",
            "61\n",
            "62\n",
            "63\n",
            "64\n",
            "65\n",
            "66\n",
            "67\n",
            "68\n",
            "69\n",
            "70\n",
            "71\n",
            "72\n",
            "73\n",
            "74\n",
            "75\n",
            "76\n",
            "77\n",
            "78\n",
            "79\n",
            "80\n",
            "81\n",
            "82\n",
            "83\n",
            "84\n",
            "85\n",
            "86\n",
            "87\n",
            "88\n",
            "89\n",
            "90\n",
            "91\n",
            "92\n",
            "93\n",
            "94\n",
            "95\n",
            "96\n",
            "97\n",
            "98\n",
            "99\n",
            "100\n"
          ]
        }
      ]
    },
    {
      "cell_type": "code",
      "source": [
        "iteration = 1\n",
        "total = 0\n",
        "\n",
        "while iteration <= 10:\n",
        "\tnumber = int(input(\"Enter number \" ))\n",
        "\ttotal = total + number\n",
        "\titeration = iteration + 1\n",
        "\n",
        "print (\"Sum is \", total)\n"
      ],
      "metadata": {
        "colab": {
          "base_uri": "https://localhost:8080/"
        },
        "id": "IkaiIiYKCpLQ",
        "outputId": "b6c528a3-ba83-422f-9352-bef9f8870792"
      },
      "execution_count": 28,
      "outputs": [
        {
          "output_type": "stream",
          "name": "stdout",
          "text": [
            "Enter number 1\n",
            "Enter number 2\n",
            "Enter number 3\n",
            "Enter number 4\n",
            "Enter number 6\n",
            "Enter number 7\n",
            "Enter number 8\n",
            "Enter number 9\n",
            "Enter number 3\n",
            "Enter number 5\n",
            "Sum is  48\n"
          ]
        }
      ]
    },
    {
      "cell_type": "markdown",
      "source": [
        "#b) Create a python program to input marks of 10 students and print the maximum mark, minimum mark and average mark of the students."
      ],
      "metadata": {
        "id": "dmk4C7oOCDuP"
      }
    },
    {
      "cell_type": "code",
      "source": [
        "marks = []\n",
        "total_marks = 0\n",
        "\n",
        "for i in range(10):\n",
        "    mark = int(input(f\"Enter mark for student {i+1}: \"))\n",
        "    marks.append(mark)\n",
        "    total_marks += mark\n",
        "\n",
        "minimum_mark = min(marks)\n",
        "maximum_mark = max(marks)\n",
        "average_mark = total_marks / len(marks)\n",
        "\n",
        "print(\"Maximum mark:\", maximum_mark)\n",
        "print(\"Minimum mark:\", minimum_mark)\n",
        "print(\"Average mark:\", average_mark)"
      ],
      "metadata": {
        "colab": {
          "base_uri": "https://localhost:8080/"
        },
        "id": "Ow51qQnEBvYV",
        "outputId": "d028ee60-49e8-420f-9681-f775cf36644c"
      },
      "execution_count": 29,
      "outputs": [
        {
          "output_type": "stream",
          "name": "stdout",
          "text": [
            "Enter mark for student 1: 80\n",
            "Enter mark for student 2: 87\n",
            "Enter mark for student 3: 79\n",
            "Enter mark for student 4: 77\n",
            "Enter mark for student 5: 67\n",
            "Enter mark for student 6: 76\n",
            "Enter mark for student 7: 86\n",
            "Enter mark for student 8: 85\n",
            "Enter mark for student 9: 75\n",
            "Enter mark for student 10: 70\n",
            "Maximum mark: 87\n",
            "Minimum mark: 67\n",
            "Average mark: 78.2\n"
          ]
        }
      ]
    },
    {
      "cell_type": "markdown",
      "source": [
        "#c) Create a program to input five marks of a student and display the grades."
      ],
      "metadata": {
        "id": "jZrruKlJDCKW"
      }
    },
    {
      "cell_type": "markdown",
      "source": [
        "• Mark > 75 – A\n",
        "\n",
        "• Mark 65 to 75 – B\n",
        "\n",
        "• Mark 55 to 64 – C\n",
        "\n",
        "• Mark 45 to 54 – S\n",
        "\n",
        "• Mark < 45 – F"
      ],
      "metadata": {
        "id": "nsBLpUJNDEmA"
      }
    },
    {
      "cell_type": "code",
      "source": [
        "marks = []\n",
        "\n",
        "for i in range(5):\n",
        "    mark = int(input(f\"Enter mark {i+1}: \"))\n",
        "    marks.append(mark)\n",
        "\n",
        "print(\"\\nGrades:\")\n",
        "for mark in marks:\n",
        "    if mark > 75:\n",
        "        grade = \"A\"\n",
        "    elif 65 <= mark <= 75:\n",
        "        grade = \"B\"\n",
        "    elif 55 <= mark <= 64:\n",
        "        grade = \"C\"\n",
        "    elif 45 <= mark <= 54:\n",
        "        grade = \"S\"\n",
        "    else:\n",
        "        grade = \"F\"\n",
        "    print(f\"Mark: {mark}, Grade: {grade}\")"
      ],
      "metadata": {
        "colab": {
          "base_uri": "https://localhost:8080/"
        },
        "id": "5g0kV_2yDYI6",
        "outputId": "02446f9f-47d9-4145-cfc1-25cb815f7b2a"
      },
      "execution_count": 31,
      "outputs": [
        {
          "output_type": "stream",
          "name": "stdout",
          "text": [
            "Enter mark 1: 55\n",
            "Enter mark 2: 66\n",
            "Enter mark 3: 60\n",
            "Enter mark 4: 80\n",
            "Enter mark 5: 76\n",
            "\n",
            "Grades:\n",
            "Mark: 55, Grade: C\n",
            "Mark: 66, Grade: B\n",
            "Mark: 60, Grade: C\n",
            "Mark: 80, Grade: A\n",
            "Mark: 76, Grade: A\n"
          ]
        }
      ]
    },
    {
      "cell_type": "markdown",
      "source": [
        "#d)  Write a program to input a series of numbers terminated by -999. Calculate and print the sum of the numbers entered."
      ],
      "metadata": {
        "id": "VK4DkdQaDmXb"
      }
    },
    {
      "cell_type": "code",
      "source": [
        "total = 0  # to store the sum\n",
        "\n",
        "print(\"Enter numbers (enter -999 to stop):\")\n",
        "\n",
        "while True:\n",
        "    num = int(input(\"Enter a number: \"))\n",
        "\n",
        "    if num == -999:   # termination condition\n",
        "        break\n",
        "\n",
        "    total += num      # add to sum\n",
        "\n",
        "print(\"\\nThe sum of the numbers entered is:\", total)\n"
      ],
      "metadata": {
        "colab": {
          "base_uri": "https://localhost:8080/"
        },
        "id": "juV3AqABDg2m",
        "outputId": "5405bfd7-5359-41c6-8ac1-e3a96b2b1b03"
      },
      "execution_count": 32,
      "outputs": [
        {
          "output_type": "stream",
          "name": "stdout",
          "text": [
            "Enter numbers (enter -999 to stop):\n",
            "Enter a number: 66\n",
            "Enter a number: -999\n",
            "\n",
            "The sum of the numbers entered is: 66\n"
          ]
        }
      ]
    },
    {
      "cell_type": "code",
      "source": [],
      "metadata": {
        "id": "OX49pKMFD16C"
      },
      "execution_count": null,
      "outputs": []
    }
  ]
}