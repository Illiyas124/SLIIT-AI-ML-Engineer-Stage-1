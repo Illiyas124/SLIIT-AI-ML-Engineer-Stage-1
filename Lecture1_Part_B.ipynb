{
  "nbformat": 4,
  "nbformat_minor": 0,
  "metadata": {
    "colab": {
      "provenance": []
    },
    "kernelspec": {
      "name": "python3",
      "display_name": "Python 3"
    },
    "language_info": {
      "name": "python"
    }
  },
  "cells": [
    {
      "cell_type": "markdown",
      "source": [
        "Write a program to print your name and your school."
      ],
      "metadata": {
        "id": "3HmWk17YgLAe"
      }
    },
    {
      "cell_type": "code",
      "source": [
        "name = str(input(\"Enter your name: \"))\n",
        "school = str(input(\"Enter your school name: \"))\n",
        "print(name, school)"
      ],
      "metadata": {
        "colab": {
          "base_uri": "https://localhost:8080/"
        },
        "id": "6zktPOP4gKqp",
        "outputId": "c5107317-1f12-44c8-bc89-43c2b826afd9"
      },
      "execution_count": 1,
      "outputs": [
        {
          "output_type": "stream",
          "name": "stdout",
          "text": [
            "Enter your name: Illiyas\n",
            "Enter your school name: Al Adhan Maha Vidyalaya\n",
            "Illiyas Al Adhan Maha Vidyalaya\n"
          ]
        }
      ]
    },
    {
      "cell_type": "code",
      "source": [],
      "metadata": {
        "id": "Vj_MXrDEhb2h"
      },
      "execution_count": null,
      "outputs": []
    }
  ]
}